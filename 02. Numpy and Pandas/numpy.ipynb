{
 "cells": [
  {
   "cell_type": "code",
   "execution_count": 1,
   "metadata": {},
   "outputs": [
    {
     "name": "stdout",
     "output_type": "stream",
     "text": [
      "Requirement already satisfied: numpy in c:\\users\\junghun\\appdata\\local\\programs\\python\\python310\\lib\\site-packages (1.23.2)\n",
      "Note: you may need to restart the kernel to use updated packages.\n"
     ]
    }
   ],
   "source": [
    "pip install numpy"
   ]
  },
  {
   "cell_type": "code",
   "execution_count": 2,
   "metadata": {},
   "outputs": [],
   "source": [
    "import numpy as np"
   ]
  },
  {
   "cell_type": "code",
   "execution_count": 7,
   "metadata": {},
   "outputs": [
    {
     "name": "stdout",
     "output_type": "stream",
     "text": [
      "array1 type:  <class 'numpy.ndarray'>\n",
      "array1 shape:  (3,)\n",
      "array2 shape:  (2, 3)\n",
      "array3 shape:  (1, 3)\n"
     ]
    }
   ],
   "source": [
    "array1 = np.array([1, 2, 3])\n",
    "print('array1 type: ', type(array1))\n",
    "print('array1 shape: ', array1.shape)\n",
    "\n",
    "array2 = np.array(\n",
    "    [\n",
    "        [1, 2, 3],\n",
    "        [4, 5, 6]\n",
    "    ]\n",
    ")\n",
    "print('array2 shape: ', array2.shape)\n",
    "\n",
    "array3 = np.array(\n",
    "    [\n",
    "        [1, 2, 3]\n",
    "    ])\n",
    "print('array3 shape: ', array3.shape)"
   ]
  },
  {
   "cell_type": "code",
   "execution_count": 10,
   "metadata": {},
   "outputs": [
    {
     "name": "stdout",
     "output_type": "stream",
     "text": [
      "1차원\n"
     ]
    }
   ],
   "source": [
    "print(f'{array1.ndim}차원')"
   ]
  },
  {
   "cell_type": "code",
   "execution_count": 11,
   "metadata": {},
   "outputs": [
    {
     "data": {
      "text/plain": [
       "dtype('int32')"
      ]
     },
     "execution_count": 11,
     "metadata": {},
     "output_type": "execute_result"
    }
   ],
   "source": [
    "array1.dtype"
   ]
  },
  {
   "cell_type": "code",
   "execution_count": 17,
   "metadata": {},
   "outputs": [
    {
     "name": "stdout",
     "output_type": "stream",
     "text": [
      "['1' '2' 'a'] <U11\n"
     ]
    }
   ],
   "source": [
    "list2 = [1, 2, 'a']\n",
    "a = np.array(list2)\n",
    "print(a, a.dtype)"
   ]
  },
  {
   "cell_type": "code",
   "execution_count": 16,
   "metadata": {},
   "outputs": [
    {
     "name": "stdout",
     "output_type": "stream",
     "text": [
      "['1' '2' 'test'] <U11\n",
      "유니코드 문자열값으로 데이터가 변환 되었음\n",
      "[1. 2. 3.] float64\n",
      "float형으로 데이터가 변환되었음\n"
     ]
    }
   ],
   "source": [
    "list2 = [1, 2, 'test'] #int 형과 str형이 섞여있는 리스트\n",
    "array2 = np.array(list2)\n",
    "print(array2, array2.dtype)\n",
    "print('유니코드 문자열값으로 데이터가 변환 되었음')\n",
    "\n",
    "list3 = [1, 2, 3.0] #int와 float가 섞여있는 리스트\n",
    "array3 = np.array(list3)\n",
    "print(array3, array3.dtype)\n",
    "print('float형으로 데이터가 변환되었음')"
   ]
  }
 ],
 "metadata": {
  "kernelspec": {
   "display_name": "Python 3.10.7 64-bit",
   "language": "python",
   "name": "python3"
  },
  "language_info": {
   "codemirror_mode": {
    "name": "ipython",
    "version": 3
   },
   "file_extension": ".py",
   "mimetype": "text/x-python",
   "name": "python",
   "nbconvert_exporter": "python",
   "pygments_lexer": "ipython3",
   "version": "3.10.7"
  },
  "orig_nbformat": 4,
  "vscode": {
   "interpreter": {
    "hash": "02e28ed34d880472df9db0c8c58dcaf0f12832fddf80643138af7e1fee0c0603"
   }
  }
 },
 "nbformat": 4,
 "nbformat_minor": 2
}
